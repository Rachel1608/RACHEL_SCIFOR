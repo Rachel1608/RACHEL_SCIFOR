{
 "cells": [
  {
   "cell_type": "markdown",
   "id": "88ba3fc4",
   "metadata": {},
   "source": [
    "### TEXT NORMALIZATION"
   ]
  },
  {
   "cell_type": "code",
   "execution_count": 1,
   "id": "62506b99",
   "metadata": {},
   "outputs": [
    {
     "name": "stderr",
     "output_type": "stream",
     "text": [
      "\n",
      "Usage:   \n",
      "  pip install [options] <requirement specifier> [package-index-options] ...\n",
      "  pip install [options] -r <requirements file> [package-index-options] ...\n",
      "  pip install [options] [-e] <vcs project url> ...\n",
      "  pip install [options] [-e] <local project path> ...\n",
      "  pip install [options] <archive url/path> ...\n",
      "\n",
      "no such option: --user-U\n"
     ]
    }
   ],
   "source": [
    "!pip install --user-U nltk"
   ]
  },
  {
   "cell_type": "code",
   "execution_count": 2,
   "id": "08dfd5cb",
   "metadata": {},
   "outputs": [],
   "source": [
    "from nltk.tokenize.regexp import WhitespaceTokenizer"
   ]
  },
  {
   "cell_type": "code",
   "execution_count": 3,
   "id": "8aedfaf6",
   "metadata": {},
   "outputs": [],
   "source": [
    "from nltk.tokenize import word_tokenize"
   ]
  },
  {
   "cell_type": "code",
   "execution_count": 4,
   "id": "83928b82",
   "metadata": {},
   "outputs": [],
   "source": [
    "text = 'In the 1940s and 50s reports of \"flying saucers\" became an American cultural phenomena. Sightings of strange objects in the sky became the raw materials for Hollywood to present visions of potential threats.'"
   ]
  },
  {
   "cell_type": "code",
   "execution_count": 5,
   "id": "5dbe9e27",
   "metadata": {},
   "outputs": [
    {
     "data": {
      "text/plain": [
       "['In',\n",
       " 'the',\n",
       " '1940s',\n",
       " 'and',\n",
       " '50s',\n",
       " 'reports',\n",
       " 'of',\n",
       " '``',\n",
       " 'flying',\n",
       " 'saucers',\n",
       " \"''\",\n",
       " 'became',\n",
       " 'an',\n",
       " 'American',\n",
       " 'cultural',\n",
       " 'phenomena',\n",
       " '.',\n",
       " 'Sightings',\n",
       " 'of',\n",
       " 'strange',\n",
       " 'objects',\n",
       " 'in',\n",
       " 'the',\n",
       " 'sky',\n",
       " 'became',\n",
       " 'the',\n",
       " 'raw',\n",
       " 'materials',\n",
       " 'for',\n",
       " 'Hollywood',\n",
       " 'to',\n",
       " 'present',\n",
       " 'visions',\n",
       " 'of',\n",
       " 'potential',\n",
       " 'threats',\n",
       " '.']"
      ]
     },
     "execution_count": 5,
     "metadata": {},
     "output_type": "execute_result"
    }
   ],
   "source": [
    "word_tokenize(text)"
   ]
  },
  {
   "cell_type": "code",
   "execution_count": 6,
   "id": "1c8459d5",
   "metadata": {},
   "outputs": [
    {
     "name": "stdout",
     "output_type": "stream",
     "text": [
      "33\n"
     ]
    }
   ],
   "source": [
    "tokens = WhitespaceTokenizer().tokenize(text)\n",
    "print(len(tokens))"
   ]
  },
  {
   "cell_type": "code",
   "execution_count": 7,
   "id": "9d78f981",
   "metadata": {},
   "outputs": [
    {
     "data": {
      "text/plain": [
       "['In',\n",
       " 'the',\n",
       " '1940s',\n",
       " 'and',\n",
       " '50s',\n",
       " 'reports',\n",
       " 'of',\n",
       " '\"flying',\n",
       " 'saucers\"',\n",
       " 'became',\n",
       " 'an',\n",
       " 'American',\n",
       " 'cultural',\n",
       " 'phenomena.',\n",
       " 'Sightings',\n",
       " 'of',\n",
       " 'strange',\n",
       " 'objects',\n",
       " 'in',\n",
       " 'the',\n",
       " 'sky',\n",
       " 'became',\n",
       " 'the',\n",
       " 'raw',\n",
       " 'materials',\n",
       " 'for',\n",
       " 'Hollywood',\n",
       " 'to',\n",
       " 'present',\n",
       " 'visions',\n",
       " 'of',\n",
       " 'potential',\n",
       " 'threats.']"
      ]
     },
     "execution_count": 7,
     "metadata": {},
     "output_type": "execute_result"
    }
   ],
   "source": [
    "tokens"
   ]
  },
  {
   "cell_type": "code",
   "execution_count": 9,
   "id": "151ede5f",
   "metadata": {},
   "outputs": [
    {
     "name": "stdout",
     "output_type": "stream",
     "text": [
      "28\n"
     ]
    }
   ],
   "source": [
    "myvocab = set(tokens)\n",
    "print(len(myvocab))"
   ]
  },
  {
   "cell_type": "code",
   "execution_count": 10,
   "id": "eb39a24d",
   "metadata": {},
   "outputs": [
    {
     "data": {
      "text/plain": [
       "{'\"flying',\n",
       " '1940s',\n",
       " '50s',\n",
       " 'American',\n",
       " 'Hollywood',\n",
       " 'In',\n",
       " 'Sightings',\n",
       " 'an',\n",
       " 'and',\n",
       " 'became',\n",
       " 'cultural',\n",
       " 'for',\n",
       " 'in',\n",
       " 'materials',\n",
       " 'objects',\n",
       " 'of',\n",
       " 'phenomena.',\n",
       " 'potential',\n",
       " 'present',\n",
       " 'raw',\n",
       " 'reports',\n",
       " 'saucers\"',\n",
       " 'sky',\n",
       " 'strange',\n",
       " 'the',\n",
       " 'threats.',\n",
       " 'to',\n",
       " 'visions'}"
      ]
     },
     "execution_count": 10,
     "metadata": {},
     "output_type": "execute_result"
    }
   ],
   "source": [
    "myvocab"
   ]
  },
  {
   "cell_type": "code",
   "execution_count": 11,
   "id": "ed02d487",
   "metadata": {},
   "outputs": [],
   "source": [
    "my_str = \"The Kepler space telescope was NASA’s first planet-hunting mission, assigned to search a portion of the Milky Way galaxy for Earth-sized planets orbiting stars outside our solar system. During nine years in deep space Kepler, and its second act, the extended mission dubbed K2, showed our galaxy contains billions of hidden exoplanets, many of which could be promising places for life.\""
   ]
  },
  {
   "cell_type": "code",
   "execution_count": 12,
   "id": "07b6d416",
   "metadata": {},
   "outputs": [],
   "source": [
    "from nltk.tokenize.regexp import WordPunctTokenizer"
   ]
  },
  {
   "cell_type": "code",
   "execution_count": 14,
   "id": "207fccff",
   "metadata": {},
   "outputs": [
    {
     "name": "stdout",
     "output_type": "stream",
     "text": [
      "74\n"
     ]
    }
   ],
   "source": [
    "m_t = WordPunctTokenizer().tokenize(my_str)\n",
    "print(len(m_t))"
   ]
  },
  {
   "cell_type": "code",
   "execution_count": 15,
   "id": "5b07a491",
   "metadata": {},
   "outputs": [
    {
     "data": {
      "text/plain": [
       "['The',\n",
       " 'Kepler',\n",
       " 'space',\n",
       " 'telescope',\n",
       " 'was',\n",
       " 'NASA',\n",
       " '’',\n",
       " 's',\n",
       " 'first',\n",
       " 'planet',\n",
       " '-',\n",
       " 'hunting',\n",
       " 'mission',\n",
       " ',',\n",
       " 'assigned',\n",
       " 'to',\n",
       " 'search',\n",
       " 'a',\n",
       " 'portion',\n",
       " 'of',\n",
       " 'the',\n",
       " 'Milky',\n",
       " 'Way',\n",
       " 'galaxy',\n",
       " 'for',\n",
       " 'Earth',\n",
       " '-',\n",
       " 'sized',\n",
       " 'planets',\n",
       " 'orbiting',\n",
       " 'stars',\n",
       " 'outside',\n",
       " 'our',\n",
       " 'solar',\n",
       " 'system',\n",
       " '.',\n",
       " 'During',\n",
       " 'nine',\n",
       " 'years',\n",
       " 'in',\n",
       " 'deep',\n",
       " 'space',\n",
       " 'Kepler',\n",
       " ',',\n",
       " 'and',\n",
       " 'its',\n",
       " 'second',\n",
       " 'act',\n",
       " ',',\n",
       " 'the',\n",
       " 'extended',\n",
       " 'mission',\n",
       " 'dubbed',\n",
       " 'K2',\n",
       " ',',\n",
       " 'showed',\n",
       " 'our',\n",
       " 'galaxy',\n",
       " 'contains',\n",
       " 'billions',\n",
       " 'of',\n",
       " 'hidden',\n",
       " 'exoplanets',\n",
       " ',',\n",
       " 'many',\n",
       " 'of',\n",
       " 'which',\n",
       " 'could',\n",
       " 'be',\n",
       " 'promising',\n",
       " 'places',\n",
       " 'for',\n",
       " 'life',\n",
       " '.']"
      ]
     },
     "execution_count": 15,
     "metadata": {},
     "output_type": "execute_result"
    }
   ],
   "source": [
    "m_t"
   ]
  },
  {
   "cell_type": "code",
   "execution_count": 16,
   "id": "837ccd63",
   "metadata": {},
   "outputs": [
    {
     "data": {
      "text/plain": [
       "['The Kepler space telescope was NASA’s first planet-hunting mission, assigned to search a portion of the Milky Way galaxy for Earth-sized planets orbiting stars outside our solar system.',\n",
       " 'During nine years in deep space Kepler, and its second act, the extended mission dubbed K2, showed our galaxy contains billions of hidden, many of which could be promising places for life.']"
      ]
     },
     "execution_count": 16,
     "metadata": {},
     "output_type": "execute_result"
    }
   ],
   "source": [
    "from nltk.tokenize import sent_tokenize\n",
    "\n",
    "text = \"The Kepler space telescope was NASA’s first planet-hunting mission, assigned to search a portion of the Milky Way galaxy for Earth-sized planets orbiting stars outside our solar system. During nine years in deep space Kepler, and its second act, the extended mission dubbed K2, showed our galaxy contains billions of hidden, many of which could be promising places for life.\"\n",
    "sent_tokenize(text)"
   ]
  },
  {
   "cell_type": "code",
   "execution_count": 17,
   "id": "5565b88c",
   "metadata": {},
   "outputs": [
    {
     "name": "stdout",
     "output_type": "stream",
     "text": [
      "<FreqDist with 56 samples and 69 outcomes>\n"
     ]
    }
   ],
   "source": [
    "# Frequency Distribution\n",
    "import nltk\n",
    "\n",
    "text = 'The Kepler space telescope was NASA’s first planet-hunting mission, assigned to search a portion of the Milky Way galaxy for Earth-sized planets orbiting stars outside our solar system. During nine years in deep space Kepler, and its second act, the extended mission dubbed K2, showed our galaxy contains billions of hidden exoplanets many of which could be promising places for life.'\n",
    "freqdist = nltk.FreqDist(word_tokenize(text))\n",
    "print(freqdist)"
   ]
  },
  {
   "cell_type": "code",
   "execution_count": 19,
   "id": "eaccb711",
   "metadata": {},
   "outputs": [
    {
     "data": {
      "text/plain": [
       "2"
      ]
     },
     "execution_count": 19,
     "metadata": {},
     "output_type": "execute_result"
    }
   ],
   "source": [
    "freqdist['Kepler']"
   ]
  },
  {
   "cell_type": "code",
   "execution_count": 21,
   "id": "ae96eab8",
   "metadata": {},
   "outputs": [
    {
     "name": "stdout",
     "output_type": "stream",
     "text": [
      "<class 'dict_keys'>\n",
      "56\n"
     ]
    }
   ],
   "source": [
    "words = freqdist.keys()\n",
    "print(type(words))\n",
    "print(len(words))"
   ]
  },
  {
   "cell_type": "code",
   "execution_count": 22,
   "id": "b32bfd20",
   "metadata": {},
   "outputs": [
    {
     "data": {
      "image/png": "[encoded data removed]",
      "text/plain": [
       "<Figure size 640x480 with 1 Axes>"
      ]
     },
     "metadata": {},
     "output_type": "display_data"
    },
    {
     "data": {
      "text/plain": [
       "<Axes: xlabel='Samples', ylabel='Counts'>"
      ]
     },
     "execution_count": 22,
     "metadata": {},
     "output_type": "execute_result"
    }
   ],
   "source": [
    "freqdist.plot(10)"
   ]
  },
  {
   "cell_type": "code",
   "execution_count": 25,
   "id": "274ff5f8",
   "metadata": {},
   "outputs": [
    {
     "name": "stdout",
     "output_type": "stream",
     "text": [
      "2\n"
     ]
    }
   ],
   "source": [
    "#Personal Frequency Distribution\n",
    "from nltk import FreqDist\n",
    "sent = 'The Kepler space telescope was NASA’s first planet-hunting mission, assigned to search a portion of the Milky Way galaxy for Earth-sized planets orbiting stars outside our solar system. During nine years in deep space Kepler, and its second act, the extended mission dubbed K2, showed our galaxy contains billions of hidden exoplanets, many of which could be promising places for life.'\n",
    "text_list = sent.split(\" \")\n",
    "freqdist = FreqDist(text_list)\n",
    "words = list(freqdist.keys())\n",
    "print(freqdist['space'])"
   ]
  },
  {
   "cell_type": "code",
   "execution_count": 26,
   "id": "1e7246ac",
   "metadata": {},
   "outputs": [
    {
     "data": {
      "image/png": "[encoded data removed]",
      "text/plain": [
       "<Figure size 640x480 with 1 Axes>"
      ]
     },
     "metadata": {},
     "output_type": "display_data"
    },
    {
     "data": {
      "text/plain": [
       "<Axes: xlabel='Samples', ylabel='Counts'>"
      ]
     },
     "execution_count": 26,
     "metadata": {},
     "output_type": "execute_result"
    }
   ],
   "source": [
    "freqdist.plot(15)"
   ]
  }
 ],
 "metadata": {
  "kernelspec": {
   "display_name": "Python 3 (ipykernel)",
   "language": "python",
   "name": "python3"
  },
  "language_info": {
   "codemirror_mode": {
    "name": "ipython",
    "version": 3
   },
   "file_extension": ".py",
   "mimetype": "text/x-python",
   "name": "python",
   "nbconvert_exporter": "python",
   "pygments_lexer": "ipython3",
   "version": "3.11.7"
  }
 },
 "nbformat": 4,
 "nbformat_minor": 5
}
